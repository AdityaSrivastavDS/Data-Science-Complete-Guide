{
 "cells": [
  {
   "cell_type": "code",
   "execution_count": 1,
   "id": "790503b0-1fdc-43d5-b69f-6eb4f3cf00cf",
   "metadata": {},
   "outputs": [
    {
     "name": "stdout",
     "output_type": "stream",
     "text": [
      "Data generation complete. File saved as 'synthetic_leads_data.csv'.\n"
     ]
    }
   ],
   "source": [
    "import numpy as np\n",
    "import pandas as pd\n",
    "\n",
    "# Set random seed for reproducibility\n",
    "np.random.seed(42)\n",
    "\n",
    "# Generate synthetic data\n",
    "n_samples = 9000\n",
    "\n",
    "data = pd.DataFrame({\n",
    "    'Lead Source': np.random.choice(['Direct Traffic', 'Google', 'Referral', 'Social Media', 'Organic Search'], size=n_samples),\n",
    "    'Total Time Spent on Website': np.random.randint(0, 5000, size=n_samples),\n",
    "    'Total Visits': np.random.randint(1, 20, size=n_samples),\n",
    "    'Last Activity': np.random.choice(['Email Opened', 'Page Visited', 'Form Submitted', 'Other'], size=n_samples),\n",
    "    'Converted': np.random.choice([0, 1], size=n_samples, p=[0.7, 0.3])\n",
    "})\n",
    "\n",
    "# Save the dataset to a CSV file\n",
    "data.to_csv('synthetic_leads_data.csv', index=False)\n",
    "\n",
    "print(\"Data generation complete. File saved as 'synthetic_leads_data.csv'.\")\n"
   ]
  },
  {
   "cell_type": "code",
   "execution_count": null,
   "id": "8d2be142-e160-4181-90fc-55ae4c8aff93",
   "metadata": {},
   "outputs": [],
   "source": []
  }
 ],
 "metadata": {
  "kernelspec": {
   "display_name": "Python 3 (ipykernel)",
   "language": "python",
   "name": "python3"
  },
  "language_info": {
   "codemirror_mode": {
    "name": "ipython",
    "version": 3
   },
   "file_extension": ".py",
   "mimetype": "text/x-python",
   "name": "python",
   "nbconvert_exporter": "python",
   "pygments_lexer": "ipython3",
   "version": "3.11.9"
  }
 },
 "nbformat": 4,
 "nbformat_minor": 5
}
