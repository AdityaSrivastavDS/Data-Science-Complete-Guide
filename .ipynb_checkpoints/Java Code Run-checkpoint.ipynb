{
 "cells": [
  {
   "cell_type": "code",
   "execution_count": 7,
   "id": "77b31750",
   "metadata": {},
   "outputs": [
    {
     "name": "stdout",
     "output_type": "stream",
     "text": [
      "[1, 2, 3]"
     ]
    }
   ],
   "source": [
    "import java.util.ArrayList;\n",
    "class solution{\n",
    "    public static void main(String args[]){\n",
    "        ArrayList<Integer> list = new ArrayList<Integer>();\n",
    "        list.add(1);\n",
    "        list.add(2);\n",
    "        list.add(3);\n",
    "        \n",
    "        System.out.print(list);\n",
    "    }\n",
    "}\n",
    "\n",
    "solution.main(null);  \n",
    "//for running code we have to use null method which consists: name of class to be called:main keyword: in parenthesis null"
   ]
  },
  {
   "cell_type": "code",
   "execution_count": null,
   "id": "378e317a",
   "metadata": {},
   "outputs": [],
   "source": []
  },
  {
   "cell_type": "code",
   "execution_count": null,
   "id": "2c3aa68e",
   "metadata": {},
   "outputs": [],
   "source": []
  },
  {
   "cell_type": "code",
   "execution_count": null,
   "id": "520a9c96",
   "metadata": {},
   "outputs": [],
   "source": []
  }
 ],
 "metadata": {
  "kernelspec": {
   "display_name": "Java",
   "language": "java",
   "name": "java"
  },
  "language_info": {
   "codemirror_mode": "java",
   "file_extension": ".jshell",
   "mimetype": "text/x-java-source",
   "name": "Java",
   "pygments_lexer": "java",
   "version": "21.0.4+7-LTS"
  }
 },
 "nbformat": 4,
 "nbformat_minor": 5
}
